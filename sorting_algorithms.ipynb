{
 "cells": [
  {
   "cell_type": "markdown",
   "metadata": {},
   "source": [
    "# Selection Sort"
   ]
  },
  {
   "cell_type": "code",
   "execution_count": null,
   "metadata": {},
   "outputs": [],
   "source": [
    "#Selection Sort algorithm\n",
    "\n",
    "def selection_sort(l):\n",
    "    for i in range(0,len(l)-1):\n",
    "        min_pos = i\n",
    "        for j in range(i+1,len(l)):\n",
    "            if l[min_pos] > l[j]:\n",
    "                min_pos = j\n",
    "        if min_pos != i: #this is extra line for  me\n",
    "            (l[i],l[min_pos]) = (l[min_pos],l[i])\n",
    "#         print(f\"i={i} j={j} l={l}\")\n",
    "    return l            "
   ]
  },
  {
   "cell_type": "code",
   "execution_count": null,
   "metadata": {
    "scrolled": false
   },
   "outputs": [],
   "source": [
    "selection_sort([1,1,1,8,2])"
   ]
  },
  {
   "cell_type": "markdown",
   "metadata": {},
   "source": [
    "# Bubble Sort"
   ]
  },
  {
   "cell_type": "code",
   "execution_count": null,
   "metadata": {},
   "outputs": [],
   "source": [
    "#Bubble Sort algorithm\n",
    "\n",
    "def bubble_sort(l):\n",
    "    for j in range(0,len(l)):\n",
    "        for i in range(0,len(l)-1):\n",
    "            if l[i] > l[i+1]:\n",
    "                l[i],l[i+1] = l[i+1],l[i]\n",
    "#             print(f\"i={i} l={l}\")\n",
    "            \n",
    "    return l"
   ]
  },
  {
   "cell_type": "code",
   "execution_count": null,
   "metadata": {},
   "outputs": [],
   "source": [
    "bubble_sort([99,113,22,74,76,1,2,-1,0,2])"
   ]
  },
  {
   "cell_type": "markdown",
   "metadata": {},
   "source": [
    "# Insertion Sort"
   ]
  },
  {
   "cell_type": "code",
   "execution_count": null,
   "metadata": {},
   "outputs": [],
   "source": [
    "#Insertion Sort algorithm\n",
    "\n",
    "def insertion_sort(l):\n",
    "    for i in range(1,len(l)):\n",
    "        curr_num = l[i]\n",
    "        while curr_num < l[i-1] and i-1>=0:\n",
    "            l[i-1], l[i] = l[i],l[i-1]\n",
    "            i-=1\n",
    "    return l"
   ]
  },
  {
   "cell_type": "code",
   "execution_count": null,
   "metadata": {},
   "outputs": [],
   "source": [
    "insertion_sort([2,7,5,1,0,9])"
   ]
  },
  {
   "cell_type": "markdown",
   "metadata": {},
   "source": [
    "# Merge Sort"
   ]
  },
  {
   "cell_type": "code",
   "execution_count": null,
   "metadata": {},
   "outputs": [],
   "source": [
    "#Merge Sort algorithm\n",
    "\n",
    "def merge(left_half,right_half):\n",
    "    left_i = right_i = 0\n",
    "    new_l = []\n",
    "    while left_i < len(left_half) and right_i < len(right_half):\n",
    "        \n",
    "        if left_half[left_i] < right_half[right_i]:\n",
    "            new_l.append(left_half[left_i])\n",
    "            left_i += 1\n",
    "            \n",
    "        else:\n",
    "            new_l.append(right_half[right_i])\n",
    "            right_i += 1\n",
    "            \n",
    "    new_l.extend(left_half[left_i:])\n",
    "    new_l.extend(right_half[right_i:])\n",
    "    return new_l\n",
    "    \n",
    "def merge_sort(l):\n",
    "    if len(l) <= 1:\n",
    "        return l\n",
    "    mid = len(l)//2\n",
    "    left_half = merge_sort(l[:mid])\n",
    "    right_half = merge_sort(l[mid:])   \n",
    "    return merge(left_half,right_half)"
   ]
  },
  {
   "cell_type": "code",
   "execution_count": null,
   "metadata": {},
   "outputs": [],
   "source": [
    "merge_sort([99,113,22,74,76,1,2,-1,0,2])"
   ]
  },
  {
   "cell_type": "markdown",
   "metadata": {},
   "source": [
    "# Quick Sort"
   ]
  },
  {
   "cell_type": "code",
   "execution_count": 1,
   "metadata": {},
   "outputs": [],
   "source": [
    "#Quick Sort algorithm\n",
    "def quick_sort(l,start,end):\n",
    "    pivot = end\n",
    "    i,j=start,start\n",
    "    \n",
    "    if end-start<=1:\n",
    "        return\n",
    "    \n",
    "    while j<=pivot:\n",
    "        if j==pivot:\n",
    "            l[j],l[i]=l[i],l[j]\n",
    "            break\n",
    "        elif l[j]>=l[pivot]:\n",
    "            j+=1\n",
    "        elif l[j]<l[pivot]:\n",
    "            l[j],l[i]=l[i],l[j]\n",
    "            i+=1\n",
    "            j+=1\n",
    "   \n",
    "    quick_sort(l,start,i-1)\n",
    "    quick_sort(l,i+1,end)\n",
    "    \n",
    "    return l    "
   ]
  },
  {
   "cell_type": "code",
   "execution_count": 2,
   "metadata": {
    "scrolled": true
   },
   "outputs": [
    {
     "data": {
      "text/plain": [
       "[12, 12, 23, 34, 45, 45, 56, 67, 78]"
      ]
     },
     "execution_count": 2,
     "metadata": {},
     "output_type": "execute_result"
    }
   ],
   "source": [
    "l=[45,12,78,67,56,45,34,23,12]\n",
    "start=0\n",
    "end=len(l)-1\n",
    "quick_sort(l,start,end)"
   ]
  },
  {
   "cell_type": "code",
   "execution_count": null,
   "metadata": {
    "scrolled": true
   },
   "outputs": [],
   "source": [
    "lst = [9,8,11,13,7,14,10]\n",
    "print(lst)\n",
    "i=0\n",
    "for e in lst[0:3]:\n",
    "    e = i\n",
    "    i+=1\n",
    "    print(e,'=',i)\n",
    "    \n",
    "print(lst)"
   ]
  }
 ],
 "metadata": {
  "kernelspec": {
   "display_name": "Python 3",
   "language": "python",
   "name": "python3"
  },
  "language_info": {
   "codemirror_mode": {
    "name": "ipython",
    "version": 3
   },
   "file_extension": ".py",
   "mimetype": "text/x-python",
   "name": "python",
   "nbconvert_exporter": "python",
   "pygments_lexer": "ipython3",
   "version": "3.7.4"
  }
 },
 "nbformat": 4,
 "nbformat_minor": 2
}
